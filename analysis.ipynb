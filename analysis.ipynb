{
 "cells": [
  {
   "cell_type": "code",
   "execution_count": 2,
   "metadata": {},
   "outputs": [],
   "source": [
    "import pandas as pd\n",
    "import matplotlib.pyplot as plt\n",
    "import seaborn as sns"
   ]
  },
  {
   "cell_type": "code",
   "execution_count": 3,
   "metadata": {},
   "outputs": [
    {
     "name": "stdout",
     "output_type": "stream",
     "text": [
      "<class 'pandas.core.frame.DataFrame'>\n",
      "RangeIndex: 99 entries, 0 to 98\n",
      "Data columns (total 9 columns):\n",
      " #   Column       Non-Null Count  Dtype  \n",
      "---  ------       --------------  -----  \n",
      " 0   5.1          99 non-null     float64\n",
      " 1   0.222222222  99 non-null     float64\n",
      " 2   3.5          99 non-null     float64\n",
      " 3   0.625        99 non-null     float64\n",
      " 4   1.4          99 non-null     float64\n",
      " 5   0.06779661   99 non-null     float64\n",
      " 6   0.2          99 non-null     float64\n",
      " 7   0.041666667  99 non-null     float64\n",
      " 8   setosa       99 non-null     object \n",
      "dtypes: float64(8), object(1)\n",
      "memory usage: 7.1+ KB\n"
     ]
    }
   ],
   "source": [
    "iris = pd.read_csv('iris.csv', delimiter = ',')\n",
    "\n",
    "col_names = ['sepal_length', 'sepal_width', 'petal_length', 'petal_width', 'species']\n",
    "\n",
    "iris.shape\n",
    "\n",
    "iris.info()"
   ]
  }
 ],
 "metadata": {
  "interpreter": {
   "hash": "d5bdda347636862e515a7b35da4a92ba82ed46329a129dbf7642eed73abfbbaa"
  },
  "kernelspec": {
   "display_name": "Python 3.9.7 ('base')",
   "language": "python",
   "name": "python3"
  },
  "language_info": {
   "codemirror_mode": {
    "name": "ipython",
    "version": 3
   },
   "file_extension": ".py",
   "mimetype": "text/x-python",
   "name": "python",
   "nbconvert_exporter": "python",
   "pygments_lexer": "ipython3",
   "version": "3.9.7"
  },
  "orig_nbformat": 4
 },
 "nbformat": 4,
 "nbformat_minor": 2
}
